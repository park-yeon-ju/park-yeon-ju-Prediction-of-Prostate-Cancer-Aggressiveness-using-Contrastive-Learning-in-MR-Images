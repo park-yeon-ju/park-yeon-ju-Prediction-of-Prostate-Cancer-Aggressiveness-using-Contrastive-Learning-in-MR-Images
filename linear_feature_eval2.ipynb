{
  "cells": [
    {
      "cell_type": "code",
      "source": [
        "!pip3 install torch\n",
        "!pip3 install torchvision"
      ],
      "metadata": {
        "colab": {
          "base_uri": "https://localhost:8080/"
        },
        "id": "lycFQDXsEdxp",
        "outputId": "f347600f-95a2-4fbd-b9d6-8387a79f7f0d"
      },
      "execution_count": null,
      "outputs": [
        {
          "output_type": "stream",
          "name": "stdout",
          "text": [
            "Looking in indexes: https://pypi.org/simple, https://us-python.pkg.dev/colab-wheels/public/simple/\n",
            "Requirement already satisfied: torch in /usr/local/lib/python3.7/dist-packages (1.12.1+cu113)\n",
            "Requirement already satisfied: typing-extensions in /usr/local/lib/python3.7/dist-packages (from torch) (4.1.1)\n",
            "Looking in indexes: https://pypi.org/simple, https://us-python.pkg.dev/colab-wheels/public/simple/\n",
            "Requirement already satisfied: torchvision in /usr/local/lib/python3.7/dist-packages (0.13.1+cu113)\n",
            "Requirement already satisfied: requests in /usr/local/lib/python3.7/dist-packages (from torchvision) (2.23.0)\n",
            "Requirement already satisfied: numpy in /usr/local/lib/python3.7/dist-packages (from torchvision) (1.21.6)\n",
            "Requirement already satisfied: torch==1.12.1 in /usr/local/lib/python3.7/dist-packages (from torchvision) (1.12.1+cu113)\n",
            "Requirement already satisfied: pillow!=8.3.*,>=5.3.0 in /usr/local/lib/python3.7/dist-packages (from torchvision) (7.1.2)\n",
            "Requirement already satisfied: typing-extensions in /usr/local/lib/python3.7/dist-packages (from torchvision) (4.1.1)\n",
            "Requirement already satisfied: certifi>=2017.4.17 in /usr/local/lib/python3.7/dist-packages (from requests->torchvision) (2022.9.24)\n",
            "Requirement already satisfied: chardet<4,>=3.0.2 in /usr/local/lib/python3.7/dist-packages (from requests->torchvision) (3.0.4)\n",
            "Requirement already satisfied: idna<3,>=2.5 in /usr/local/lib/python3.7/dist-packages (from requests->torchvision) (2.10)\n",
            "Requirement already satisfied: urllib3!=1.25.0,!=1.25.1,<1.26,>=1.21.1 in /usr/local/lib/python3.7/dist-packages (from requests->torchvision) (1.24.3)\n"
          ]
        }
      ]
    },
    {
      "cell_type": "code",
      "execution_count": null,
      "metadata": {
        "colab": {
          "base_uri": "https://localhost:8080/"
        },
        "id": "Bn3LBM38EY6t",
        "outputId": "7c0bb31c-81db-4e84-ab4a-36390c5d92bb"
      },
      "outputs": [
        {
          "output_type": "stream",
          "name": "stdout",
          "text": [
            "Drive already mounted at /content/drive; to attempt to forcibly remount, call drive.mount(\"/content/drive\", force_remount=True).\n"
          ]
        }
      ],
      "source": [
        "import torch\n",
        "import sys\n",
        "import yaml\n",
        "from torchvision import transforms, datasets\n",
        "import torchvision\n",
        "import numpy as np\n",
        "import os\n",
        "from sklearn import preprocessing\n",
        "from torch.utils.data.dataloader import DataLoader\n",
        "import tensorflow as tf\n",
        "\n",
        "#구글 드라이브에 있는 폴더 import 할 수 있도록 권한 부여\n",
        "from google.colab import drive \n",
        "drive.mount('/content/drive')"
      ]
    },
    {
      "cell_type": "code",
      "source": [
        "from google.colab import drive\n",
        "drive.mount('/content/drive')"
      ],
      "metadata": {
        "colab": {
          "base_uri": "https://localhost:8080/"
        },
        "id": "4-Ljd39AE7-w",
        "outputId": "45304b40-7d58-4f97-8c42-11a0309b91c4"
      },
      "execution_count": null,
      "outputs": [
        {
          "output_type": "stream",
          "name": "stdout",
          "text": [
            "Drive already mounted at /content/drive; to attempt to forcibly remount, call drive.mount(\"/content/drive\", force_remount=True).\n"
          ]
        }
      ]
    },
    {
      "cell_type": "code",
      "execution_count": null,
      "metadata": {
        "id": "82GhROmmEY6w"
      },
      "outputs": [],
      "source": [
        "sys.path.append('/content/drive/MyDrive/Colab Notebooks/yeonju_byol/PyTorch-BYOL')\n",
        "from models.resnet_base_network import ResNet18\n",
        "# ResNet18 네트워크 import"
      ]
    },
    {
      "cell_type": "code",
      "execution_count": null,
      "metadata": {
        "id": "4KqkCVriEY6x"
      },
      "outputs": [],
      "source": [
        "batch_size = 512 \n",
        "# dataloader 코드에서 사용됨\n",
        "\n",
        "data_transforms = torchvision.transforms.Compose([transforms.ToTensor()]) \n",
        "# 데이터를 tensor로 바꾸는 과정"
      ]
    },
    {
      "cell_type": "code",
      "execution_count": null,
      "metadata": {
        "colab": {
          "base_uri": "https://localhost:8080/"
        },
        "id": "kC9BSmWBEY6x",
        "outputId": "9e13f8b2-8ce1-4f02-8c97-d313fb67a433"
      },
      "outputs": [
        {
          "output_type": "stream",
          "name": "stdout",
          "text": [
            "{'network': {'name': 'resnet18', 'fine_tune_from': 'resnet-18_40-epochs', 'projection_head': {'mlp_hidden_size': 512, 'projection_size': 128}}, 'data_transforms': {'s': 1, 'input_shape': '(96,96,3)'}, 'trainer': {'batch_size': 256, 'm': 0.996, 'checkpoint_interval': 5000, 'max_epochs': 400, 'num_workers': 4}, 'optimizer': {'params': {'lr': 0.03, 'momentum': 0.9, 'weight_decay': 0.0004}}}\n"
          ]
        }
      ],
      "source": [
        "config = yaml.load(open(\"/content/drive/MyDrive/Colab Notebooks/yeonju_byol/PyTorch-BYOL/config/config.yaml\", \"r\"), Loader=yaml.FullLoader)\n",
        "# config파일 로드\n",
        "# yaml.load() 함수로 YAML 파일을 파싱하여 config 라는 이름의 Python 객체로 저장\n",
        "\n",
        "print(config)"
      ]
    },
    {
      "cell_type": "code",
      "execution_count": null,
      "metadata": {
        "colab": {
          "base_uri": "https://localhost:8080/"
        },
        "id": "EKwIQ0ymEY6y",
        "outputId": "f38b1d6a-9bf2-4bba-c2a2-ed2cbcc30b2d"
      },
      "outputs": [
        {
          "output_type": "stream",
          "name": "stdout",
          "text": [
            "Files already downloaded and verified\n",
            "Files already downloaded and verified\n"
          ]
        }
      ],
      "source": [
        "train_dataset = datasets.STL10('/content/drive/MyDrive/Colab Notebooks/yeonju_byol/Downloads/', split='train', download=True,\n",
        "                               transform=data_transforms)\n",
        "\n",
        "test_dataset = datasets.STL10('/content/drive/MyDrive/Colab Notebooks/yeonju_byol/Downloads/', split='test', download=True,\n",
        "                               transform=data_transforms) \n",
        "\n",
        "# 최초 다운로드 시에만 downlad=True로 변경\n",
        "# datasets 정의\n",
        "# split에 쓴 것에 따라 데이터 세트가 결정됨\n",
        "# transform은 PIL 이미지를 가져와 변환된 버전을 반환해줌"
      ]
    },
    {
      "cell_type": "code",
      "execution_count": null,
      "metadata": {
        "colab": {
          "base_uri": "https://localhost:8080/"
        },
        "id": "LJ0pFOnWEY6y",
        "outputId": "6edce8d9-99dc-4858-d18c-cb73f3aaab9b"
      },
      "outputs": [
        {
          "output_type": "stream",
          "name": "stdout",
          "text": [
            "Input shape: torch.Size([3, 96, 96])\n"
          ]
        }
      ],
      "source": [
        "print(\"Input shape:\", train_dataset[0][0].shape)\n",
        "# train_dataset의 shape은 크게 3개의 배열로 묶여있고 그 안은 96*96 배열의 모습을 취함.\n",
        "# 즉, 96*96 3차원 이미지 파일 -> color니까"
      ]
    },
    {
      "cell_type": "code",
      "execution_count": null,
      "metadata": {
        "id": "ufhdsJkTEY6z"
      },
      "outputs": [],
      "source": [
        "train_loader = DataLoader(train_dataset, batch_size=batch_size,\n",
        "                          num_workers=0, drop_last=False, shuffle=True)\n",
        "\n",
        "test_loader = DataLoader(test_dataset, batch_size=batch_size,\n",
        "                          num_workers=0, drop_last=False, shuffle=True)\n",
        "\n",
        "# loader에 데이터셋을 불러오는 과정\n",
        "# train_dataset/test_dataset : dataset은 각 train과 test dataset\n",
        "# batch_size: 1회 당 batch_size개의 데이터씩 분할\n",
        "# num_workers : default 값은 0이고, data 로딩을 위해 몇 개의 서브 프로세스를 사용할 것인지를 결정하는 파라미터\n",
        "# drop_last : batch의 길이가 다른 경우에 따라 loss를 구하기 귀찮은 경우가 생기고, batch의 크기에 따른 의존도 높은 함수를 사용할 때 걱정이 되는 경우 마지막 batch를 사용하지 않을 수 있게 하는 파라미터\n",
        "# shuffle : 데이터들의 순서는 섞어서 분할"
      ]
    },
    {
      "cell_type": "code",
      "execution_count": null,
      "metadata": {
        "colab": {
          "base_uri": "https://localhost:8080/"
        },
        "id": "HsW0HbHUEY60",
        "outputId": "24073166-1a54-4520-d335-94011e872078"
      },
      "outputs": [
        {
          "output_type": "stream",
          "name": "stdout",
          "text": [
            "cpu\n"
          ]
        },
        {
          "output_type": "stream",
          "name": "stderr",
          "text": [
            "/usr/local/lib/python3.7/dist-packages/torchvision/models/_utils.py:209: UserWarning: The parameter 'pretrained' is deprecated since 0.13 and will be removed in 0.15, please use 'weights' instead.\n",
            "  f\"The parameter '{pretrained_param}' is deprecated since 0.13 and will be removed in 0.15, \"\n",
            "/usr/local/lib/python3.7/dist-packages/torchvision/models/_utils.py:223: UserWarning: Arguments other than a weight enum or `None` for 'weights' are deprecated since 0.13 and will be removed in 0.15. The current behavior is equivalent to passing `weights=None`.\n",
            "  warnings.warn(msg)\n"
          ]
        }
      ],
      "source": [
        "device = 'cpu' #'cuda' if torch.cuda.is_available() else 'cpu'\n",
        "print(device)\n",
        "encoder = ResNet18(**config['network'])\n",
        "# byol 인코더 네트워크 설정\n",
        "# 불러올 모델 설정\n",
        "\n",
        "output_feature_dim = encoder.projetion.net[0].in_features\n",
        "# =512\n",
        "# resnet18의 마지막 노드 개수? "
      ]
    },
    {
      "cell_type": "code",
      "execution_count": null,
      "metadata": {
        "colab": {
          "base_uri": "https://localhost:8080/"
        },
        "id": "iFtdDbEGEY60",
        "outputId": "125f673b-e0d9-4552-f889-c0e480af9130"
      },
      "outputs": [
        {
          "output_type": "stream",
          "name": "stdout",
          "text": [
            "Parameters successfully loaded.\n"
          ]
        }
      ],
      "source": [
        "#load pre-trained parameters\n",
        "load_params = torch.load(os.path.join('/content/drive/MyDrive/Colab Notebooks/yeonju_byol/PyTorch-BYOL/runs/b 256, e 400 _ 2/checkpoints/model.pth'),\n",
        "                         map_location=torch.device(torch.device(device)))\n",
        "# runs폴더에서 불러올 Training된 model설정\n",
        "# pickle을 사용하여 저장된 객체 파일들을 역직렬화하여 메모리에 올리는 과정.\n",
        "\n",
        "# state_dict 는 간단히 말해 각 계층을 매개변수 텐서로 매핑되는 Python 사전(dict) 객체입니다.\n",
        "if 'online_network_state_dict' in load_params:\n",
        "    encoder.load_state_dict(load_params['online_network_state_dict'])\n",
        "    print(\"Parameters successfully loaded.\")\n",
        "    # 역직렬화된 state_dict 를 사용하여 모델의 매개변수(ex.가중치와 편향)들을 불러오는 과정\n",
        "    # path 파일에 있는 online_network 사전객체 매개변수들을 load.state_dict로 불러오는 것\n",
        "\n",
        "# remove the projection head\n",
        "encoder = torch.nn.Sequential(*list(encoder.children())[:-1])    \n",
        "# Sequential 객체는 그 안에 포함된 각 모듈을 순차적으로 실행함.   \n",
        "# [:-1] # 맨 마지막 값을 제외하고 모두\n",
        "# encoder에서 MLPHead 제거\n",
        "\n",
        "encoder = encoder.to(device)\n",
        "# 모델에서 사용하는 input Tensor들은 input = input.to(device) 을 호출해야 합니다.\n",
        "# GPU에서 학습한 모델을 GPU에서 불러올 때에는, 초기화된 model 에 model.to(torch.device('cuda')) 을 호출하여 CUDA 최적화된 모델로 변환해야함\n",
        "# 또한 모델에 데이터를 제공하는 모든 입력에 .to(torch.device('cuda')) 함수를 호출해야 함"
      ]
    },
    {
      "cell_type": "code",
      "execution_count": null,
      "metadata": {
        "colab": {
          "base_uri": "https://localhost:8080/"
        },
        "id": "iWX73O_DEY61",
        "outputId": "3426cbac-b645-4a9b-8494-473f9dd844eb"
      },
      "outputs": [
        {
          "output_type": "execute_result",
          "data": {
            "text/plain": [
              "Sequential(\n",
              "  (0): Sequential(\n",
              "    (0): Conv2d(3, 64, kernel_size=(7, 7), stride=(2, 2), padding=(3, 3), bias=False)\n",
              "    (1): BatchNorm2d(64, eps=1e-05, momentum=0.1, affine=True, track_running_stats=True)\n",
              "    (2): ReLU(inplace=True)\n",
              "    (3): MaxPool2d(kernel_size=3, stride=2, padding=1, dilation=1, ceil_mode=False)\n",
              "    (4): Sequential(\n",
              "      (0): BasicBlock(\n",
              "        (conv1): Conv2d(64, 64, kernel_size=(3, 3), stride=(1, 1), padding=(1, 1), bias=False)\n",
              "        (bn1): BatchNorm2d(64, eps=1e-05, momentum=0.1, affine=True, track_running_stats=True)\n",
              "        (relu): ReLU(inplace=True)\n",
              "        (conv2): Conv2d(64, 64, kernel_size=(3, 3), stride=(1, 1), padding=(1, 1), bias=False)\n",
              "        (bn2): BatchNorm2d(64, eps=1e-05, momentum=0.1, affine=True, track_running_stats=True)\n",
              "      )\n",
              "      (1): BasicBlock(\n",
              "        (conv1): Conv2d(64, 64, kernel_size=(3, 3), stride=(1, 1), padding=(1, 1), bias=False)\n",
              "        (bn1): BatchNorm2d(64, eps=1e-05, momentum=0.1, affine=True, track_running_stats=True)\n",
              "        (relu): ReLU(inplace=True)\n",
              "        (conv2): Conv2d(64, 64, kernel_size=(3, 3), stride=(1, 1), padding=(1, 1), bias=False)\n",
              "        (bn2): BatchNorm2d(64, eps=1e-05, momentum=0.1, affine=True, track_running_stats=True)\n",
              "      )\n",
              "    )\n",
              "    (5): Sequential(\n",
              "      (0): BasicBlock(\n",
              "        (conv1): Conv2d(64, 128, kernel_size=(3, 3), stride=(2, 2), padding=(1, 1), bias=False)\n",
              "        (bn1): BatchNorm2d(128, eps=1e-05, momentum=0.1, affine=True, track_running_stats=True)\n",
              "        (relu): ReLU(inplace=True)\n",
              "        (conv2): Conv2d(128, 128, kernel_size=(3, 3), stride=(1, 1), padding=(1, 1), bias=False)\n",
              "        (bn2): BatchNorm2d(128, eps=1e-05, momentum=0.1, affine=True, track_running_stats=True)\n",
              "        (downsample): Sequential(\n",
              "          (0): Conv2d(64, 128, kernel_size=(1, 1), stride=(2, 2), bias=False)\n",
              "          (1): BatchNorm2d(128, eps=1e-05, momentum=0.1, affine=True, track_running_stats=True)\n",
              "        )\n",
              "      )\n",
              "      (1): BasicBlock(\n",
              "        (conv1): Conv2d(128, 128, kernel_size=(3, 3), stride=(1, 1), padding=(1, 1), bias=False)\n",
              "        (bn1): BatchNorm2d(128, eps=1e-05, momentum=0.1, affine=True, track_running_stats=True)\n",
              "        (relu): ReLU(inplace=True)\n",
              "        (conv2): Conv2d(128, 128, kernel_size=(3, 3), stride=(1, 1), padding=(1, 1), bias=False)\n",
              "        (bn2): BatchNorm2d(128, eps=1e-05, momentum=0.1, affine=True, track_running_stats=True)\n",
              "      )\n",
              "    )\n",
              "    (6): Sequential(\n",
              "      (0): BasicBlock(\n",
              "        (conv1): Conv2d(128, 256, kernel_size=(3, 3), stride=(2, 2), padding=(1, 1), bias=False)\n",
              "        (bn1): BatchNorm2d(256, eps=1e-05, momentum=0.1, affine=True, track_running_stats=True)\n",
              "        (relu): ReLU(inplace=True)\n",
              "        (conv2): Conv2d(256, 256, kernel_size=(3, 3), stride=(1, 1), padding=(1, 1), bias=False)\n",
              "        (bn2): BatchNorm2d(256, eps=1e-05, momentum=0.1, affine=True, track_running_stats=True)\n",
              "        (downsample): Sequential(\n",
              "          (0): Conv2d(128, 256, kernel_size=(1, 1), stride=(2, 2), bias=False)\n",
              "          (1): BatchNorm2d(256, eps=1e-05, momentum=0.1, affine=True, track_running_stats=True)\n",
              "        )\n",
              "      )\n",
              "      (1): BasicBlock(\n",
              "        (conv1): Conv2d(256, 256, kernel_size=(3, 3), stride=(1, 1), padding=(1, 1), bias=False)\n",
              "        (bn1): BatchNorm2d(256, eps=1e-05, momentum=0.1, affine=True, track_running_stats=True)\n",
              "        (relu): ReLU(inplace=True)\n",
              "        (conv2): Conv2d(256, 256, kernel_size=(3, 3), stride=(1, 1), padding=(1, 1), bias=False)\n",
              "        (bn2): BatchNorm2d(256, eps=1e-05, momentum=0.1, affine=True, track_running_stats=True)\n",
              "      )\n",
              "    )\n",
              "    (7): Sequential(\n",
              "      (0): BasicBlock(\n",
              "        (conv1): Conv2d(256, 512, kernel_size=(3, 3), stride=(2, 2), padding=(1, 1), bias=False)\n",
              "        (bn1): BatchNorm2d(512, eps=1e-05, momentum=0.1, affine=True, track_running_stats=True)\n",
              "        (relu): ReLU(inplace=True)\n",
              "        (conv2): Conv2d(512, 512, kernel_size=(3, 3), stride=(1, 1), padding=(1, 1), bias=False)\n",
              "        (bn2): BatchNorm2d(512, eps=1e-05, momentum=0.1, affine=True, track_running_stats=True)\n",
              "        (downsample): Sequential(\n",
              "          (0): Conv2d(256, 512, kernel_size=(1, 1), stride=(2, 2), bias=False)\n",
              "          (1): BatchNorm2d(512, eps=1e-05, momentum=0.1, affine=True, track_running_stats=True)\n",
              "        )\n",
              "      )\n",
              "      (1): BasicBlock(\n",
              "        (conv1): Conv2d(512, 512, kernel_size=(3, 3), stride=(1, 1), padding=(1, 1), bias=False)\n",
              "        (bn1): BatchNorm2d(512, eps=1e-05, momentum=0.1, affine=True, track_running_stats=True)\n",
              "        (relu): ReLU(inplace=True)\n",
              "        (conv2): Conv2d(512, 512, kernel_size=(3, 3), stride=(1, 1), padding=(1, 1), bias=False)\n",
              "        (bn2): BatchNorm2d(512, eps=1e-05, momentum=0.1, affine=True, track_running_stats=True)\n",
              "      )\n",
              "    )\n",
              "    (8): AdaptiveAvgPool2d(output_size=(1, 1))\n",
              "  )\n",
              ")"
            ]
          },
          "metadata": {},
          "execution_count": 36
        }
      ],
      "source": [
        "encoder"
      ]
    },
    {
      "cell_type": "markdown",
      "source": [
        "(encoder): Sequential(\n",
        "\n",
        "    (0): Conv2d(3, 64, kernel_size=(7, 7), stride=(2, 2), padding=(3, 3), bias=False)\n",
        "\t# 입력 이미지의 채널 수 : 3\n",
        "\t# 컨볼루션에 의해 생성된 채널 수 : 64\n",
        "\t# 컨볼루션 커널의 크기 : (7 , 7)\n",
        "\t# 컨볼루션의 스트라이드 : (2 , 2)\n",
        "\t# input의 모든 4면에 추가된 패딩 : (3 , 3)\n",
        "\t# output에 학습 가능한 편향을 추가하지 않음\n",
        "\n",
        "    (1): BatchNorm2d(64, eps=1e-05, momentum=0.1, affine=True, track_running_stats=True)\n",
        "\t# (N, C, H, W) 크기의 기대 input의 채널의 수 : 64\n",
        "\t# 수치적 안정성을 위해 분모에 추가된 값 : 기본 값\n",
        "\t# running_mean 및 running_var 계산에 사용되는 값 : 기본 값\n",
        "\t# 이 모듈은 학습 가능한 affine 매개변수를 갖음\n",
        "\t# 이 모듈이 실행 평균과 분산을 추적함\n",
        "\n",
        "    (2): ReLU(inplace=True)\n",
        "    (3): MaxPool2d(kernel_size=3, stride=2, padding=1, dilation=1, ceil_mode=False)\n",
        "\t# 최대를 넘길 수 있는 창의 크기 : 3\n",
        "\t# 보폭 of the window : 2\n",
        "\t# 양쪽에 추가할 암시적 제로 패딩 : 1\n",
        "\t# 창에서 요소의 보폭을 제어하는 매개변수 : 1\n",
        "\t# \n",
        "    (4): Sequential(\n",
        "      (0): BasicBlock(\n",
        "        (conv1): Conv2d(64, 64, kernel_size=(3, 3), stride=(1, 1), padding=(1, 1), bias=False)\n",
        "        (bn1): BatchNorm2d(64, eps=1e-05, momentum=0.1, affine=True, track_running_stats=True)\n",
        "        (relu): ReLU(inplace=True)\n",
        "        (conv2): Conv2d(64, 64, kernel_size=(3, 3), stride=(1, 1), padding=(1, 1), bias=False)\n",
        "        (bn2): BatchNorm2d(64, eps=1e-05, momentum=0.1, affine=True, track_running_stats=True)\n",
        "      )\n",
        "\n",
        "      .\n",
        "      .\n",
        "      .\n",
        "    (8): AdaptiveAvgPool2d(output_size=(1, 1))"
      ],
      "metadata": {
        "id": "O-V3GEr4Ugf-"
      }
    },
    {
      "cell_type": "code",
      "execution_count": null,
      "metadata": {
        "id": "iui1VPfMEY62"
      },
      "outputs": [],
      "source": [
        "# 로지스틱 회귀 클래스\n",
        "class LogisticRegression(torch.nn.Module):\n",
        "    def __init__(self, input_dim, output_dim):\n",
        "        super(LogisticRegression, self).__init__()\n",
        "        self.linear = torch.nn.Linear(input_dim, output_dim)\n",
        "        # nn.Linear 를 선형 레이어로 사용\n",
        "        # 들어오는 데이터에 대해 선형 변환을 적용: y = xA^T + b\n",
        "        # torch.nn.Linear(각 입력 샘플의 크기, 각 출력 샘플의 크기)\n",
        "        \n",
        "    def forward(self, x):\n",
        "        return self.linear(x)"
      ]
    },
    {
      "cell_type": "code",
      "execution_count": null,
      "metadata": {
        "id": "gyW8jjCYEY62"
      },
      "outputs": [],
      "source": [
        "logreg = LogisticRegression(output_feature_dim, 10) # (512,10)\n",
        "logreg = logreg.to(device)"
      ]
    },
    {
      "cell_type": "code",
      "execution_count": null,
      "metadata": {
        "id": "EKC3Pou3EY62"
      },
      "outputs": [],
      "source": [
        "def get_features_from_encoder(encoder, loader):\n",
        "    \n",
        "    x_train = []\n",
        "    y_train = []\n",
        "\n",
        "    # get the features from the pre-trained model\n",
        "    # i는 인덱스, (x,y)는 원소\n",
        "    for i, (x, y) in enumerate(loader):\n",
        "        with torch.no_grad():\n",
        "            feature_vector = encoder(x)\n",
        "            x_train.extend(feature_vector) # feature_vector의 각 항목들을 x_train에 각각의 원소로 넣음.\n",
        "            y_train.extend(y.numpy()) # y를 넘파이 배열로 변환하여 y_train에 각각의 원소로 넣음.\n",
        "\n",
        "        # torch.no_grad : 그래디언트 계산을 비활성화하는 컨텍스트 관리자.\n",
        "\n",
        "            \n",
        "    x_train = torch.stack(x_train) # 새 차원을 따라 텐서 시퀀스를 연결. 연결할 때 마다 차원 추가됨.\n",
        "    y_train = torch.tensor(y_train) # y_train 데이터를 복사해 autograd 히스토리가 없는 텐서를 구성.\n",
        "    return x_train, y_train"
      ]
    },
    {
      "cell_type": "code",
      "execution_count": null,
      "metadata": {
        "colab": {
          "base_uri": "https://localhost:8080/"
        },
        "id": "89pVvKmTEY63",
        "outputId": "18c3022a-062e-4c2d-df04-8b06bd1bcf5d"
      },
      "outputs": [
        {
          "output_type": "stream",
          "name": "stdout",
          "text": [
            "Training data shape: torch.Size([5000, 512]) torch.Size([5000])\n",
            "Testing data shape: torch.Size([8000, 512]) torch.Size([8000])\n"
          ]
        }
      ],
      "source": [
        "encoder.eval() # evaluation 과정에서 사용하지 않아야 하는 layer들을 알아서 off 시키도록 하는 함수\n",
        "x_train, y_train = get_features_from_encoder(encoder, train_loader)\n",
        "x_test, y_test = get_features_from_encoder(encoder, test_loader)\n",
        "\n",
        "if len(x_train.shape) > 2:\n",
        "    x_train = torch.mean(x_train, dim=[2, 3]) # 차원 축소\n",
        "    x_test = torch.mean(x_test, dim=[2, 3]) # 차원 축소\n",
        "    \n",
        "print(\"Training data shape:\", x_train.shape, y_train.shape)\n",
        "print(\"Testing data shape:\", x_test.shape, y_test.shape)"
      ]
    },
    {
      "cell_type": "code",
      "execution_count": null,
      "metadata": {
        "id": "YJku8SRqEY63"
      },
      "outputs": [],
      "source": [
        "def create_data_loaders_from_arrays(X_train, y_train, X_test, y_test):\n",
        "\n",
        "    train = torch.utils.data.TensorDataset(X_train, y_train) # Dataset wrapping tensors\n",
        "    train_loader = torch.utils.data.DataLoader(train, batch_size=64, shuffle=True)\n",
        "\n",
        "    test = torch.utils.data.TensorDataset(X_test, y_test)\n",
        "    test_loader = torch.utils.data.DataLoader(test, batch_size=512, shuffle=False)\n",
        "    return train_loader, test_loader"
      ]
    },
    {
      "cell_type": "code",
      "execution_count": null,
      "metadata": {
        "id": "ML8lGODMEY63"
      },
      "outputs": [],
      "source": [
        "# 데이터 전처리\n",
        "scaler = preprocessing.StandardScaler() # 평균을 제거하고 단위 분산에 맞게 조정하여 features를 표준화\n",
        "scaler.fit(x_train) # x_train 데이터를 학습시키는 메서드\n",
        "x_train = scaler.transform(x_train).astype(np.float32) # 학습시킨 것을 x_train에 적용하는 메서드\n",
        "x_test = scaler.transform(x_test).astype(np.float32)"
      ]
    },
    {
      "cell_type": "code",
      "execution_count": null,
      "metadata": {
        "id": "O-qP9G9CEY64"
      },
      "outputs": [],
      "source": [
        "train_loader, test_loader = create_data_loaders_from_arrays(torch.from_numpy(x_train), y_train, torch.from_numpy(x_test), y_test)"
      ]
    },
    {
      "cell_type": "code",
      "execution_count": null,
      "metadata": {
        "colab": {
          "base_uri": "https://localhost:8080/"
        },
        "id": "7GUWZbuVEY64",
        "outputId": "ed06fe06-2905-4f9d-c9c3-1a6defc87c7c"
      },
      "outputs": [
        {
          "output_type": "stream",
          "name": "stdout",
          "text": [
            "Testing accuracy: 74.175\n",
            "Testing accuracy: 82.5\n",
            "Testing accuracy: 83.3875\n",
            "Testing accuracy: 83.625\n",
            "Testing accuracy: 83.575\n",
            "Testing accuracy: 83.3\n",
            "Testing accuracy: 83.175\n",
            "Testing accuracy: 82.9875\n",
            "Testing accuracy: 82.7625\n",
            "Testing accuracy: 82.6375\n",
            "Testing accuracy: 82.55\n",
            "Testing accuracy: 82.425\n",
            "Testing accuracy: 82.35\n",
            "Testing accuracy: 82.25\n",
            "Testing accuracy: 82.2125\n",
            "Testing accuracy: 82.2\n",
            "Testing accuracy: 82.0875\n",
            "Testing accuracy: 81.9375\n",
            "Testing accuracy: 81.9\n",
            "Testing accuracy: 81.625\n"
          ]
        }
      ],
      "source": [
        "optimizer = torch.optim.Adam(logreg.parameters(), lr=3e-4) # adamoptimizer 최적화\n",
        "criterion = torch.nn.CrossEntropyLoss() # 기준 : CrossEntropyLoss (= 입력과 목표 사이의 교차 엔트로피 손실을 계산)\n",
        "eval_every_n_epochs = 10\n",
        "\n",
        "for epoch in range(200):\n",
        "#     train_acc = []\n",
        "    for x, y in train_loader:\n",
        "\n",
        "        x = x.to(device)\n",
        "        y = y.to(device)\n",
        "\n",
        "        # 최적화 과정 (~ optimizer.step())\n",
        "        # zero the parameter gradients\n",
        "        # 모델 매개변수의 변화도를 재설정. \n",
        "        # 기본적으로 변화도는 더해지기(add up) 때문에 중복 계산을 막기 위해 반복할 때마다 명시적으로 0으로 설정.\n",
        "        optimizer.zero_grad()        \n",
        "        \n",
        "        logits = logreg(x)\n",
        "        predictions = torch.argmax(logits, dim=1)\n",
        "        # dimension (열)을 기준으로 input tensor 안에 있는 최대값의 위치를 각각 반환\n",
        "\n",
        "        # 손실(loss) 계산\n",
        "        loss = criterion(logits, y)\n",
        "        \n",
        "        loss.backward() # 예측 손실(prediction loss)을 역전파\n",
        "        optimizer.step() # 역전파 단계에서 수집된 변화도로 매개변수를 조정\n",
        "    \n",
        "    total = 0\n",
        "    if epoch % eval_every_n_epochs == 0:\n",
        "        correct = 0\n",
        "        for x, y in test_loader:\n",
        "            x = x.to(device)\n",
        "            y = y.to(device)\n",
        "\n",
        "            logits = logreg(x)\n",
        "            predictions = torch.argmax(logits, dim=1)\n",
        "            \n",
        "            total += y.size(0)\n",
        "            correct += (predictions == y).sum().item()\n",
        "            \n",
        "        acc = 100 * correct / total\n",
        "        print(f\"Testing accuracy: {np.mean(acc)}\")"
      ]
    },
    {
      "cell_type": "code",
      "execution_count": null,
      "metadata": {
        "colab": {
          "base_uri": "https://localhost:8080/",
          "height": 513
        },
        "id": "dzM6vHRsEY64",
        "outputId": "67e0aa45-77b5-4850-c9f1-1926be4a5f1e"
      },
      "outputs": [
        {
          "output_type": "display_data",
          "data": {
            "text/plain": [
              "<Figure size 576x576 with 1 Axes>"
            ],
            "image/png": "[encoded data removed]"
          },
          "metadata": {
            "needs_background": "light"
          }
        }
      ],
      "source": [
        "#그래프를 그리기 위한 설정\n",
        "import matplotlib.pyplot as plt\n",
        "import pandas as pd\n",
        "%matplotlib inline\n",
        "\n",
        "plt.rcParams['figure.figsize'] = (8,8) #캔버스 가로 세로 길이 설정\n",
        "plt.title('Testing accuracy per 10 epochs')\n",
        "plt.xlabel('epoch')\n",
        "plt.ylabel('testing accuracy')\n",
        "#plt.legend(['test Accuracy',], loc='upper right')\n",
        "plt.grid()\n",
        "\n",
        "plt.plot(np.mean(acc))\n",
        "plt.show()\n"
      ]
    }
  ],
  "metadata": {
    "kernelspec": {
      "display_name": "pytorch",
      "language": "python",
      "name": "pytorch"
    },
    "language_info": {
      "codemirror_mode": {
        "name": "ipython",
        "version": 3
      },
      "file_extension": ".py",
      "mimetype": "text/x-python",
      "name": "python",
      "nbconvert_exporter": "python",
      "pygments_lexer": "ipython3",
      "version": "3.6.6"
    },
    "colab": {
      "provenance": []
    },
    "accelerator": "GPU"
  },
  "nbformat": 4,
  "nbformat_minor": 0
}